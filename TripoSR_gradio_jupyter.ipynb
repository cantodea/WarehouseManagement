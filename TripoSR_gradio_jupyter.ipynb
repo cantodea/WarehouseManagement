{
  "cells": [
    {
      "cell_type": "markdown",
      "metadata": {
        "id": "view-in-github",
        "colab_type": "text"
      },
      "source": [
        "<a href=\"https://colab.research.google.com/github/cantodea/WarehouseManagement/blob/master/TripoSR_gradio_jupyter.ipynb\" target=\"_parent\"><img src=\"https://colab.research.google.com/assets/colab-badge.svg\" alt=\"Open In Colab\"/></a>"
      ]
    },
    {
      "cell_type": "code",
      "execution_count": null,
      "metadata": {
        "id": "VjYy0F2gZIPR",
        "colab": {
          "base_uri": "https://localhost:8080/"
        },
        "outputId": "a587fd79-c41c-43b0-dbf9-560696725821"
      },
      "outputs": [
        {
          "output_type": "stream",
          "name": "stdout",
          "text": [
            "/content\n",
            "Cloning into 'TripoSR-hf'...\n",
            "remote: Enumerating objects: 102, done.\u001b[K\n",
            "remote: Counting objects: 100% (102/102), done.\u001b[K\n",
            "remote: Compressing objects: 100% (70/70), done.\u001b[K\n",
            "remote: Total 102 (delta 34), reused 95 (delta 30), pack-reused 0 (from 0)\u001b[K\n",
            "Receiving objects: 100% (102/102), 444.55 KiB | 6.95 MiB/s, done.\n",
            "Resolving deltas: 100% (34/34), done.\n",
            "/content/TripoSR-hf\n",
            "Found existing installation: torch 1.13.1+cu117\n",
            "Uninstalling torch-1.13.1+cu117:\n",
            "  Successfully uninstalled torch-1.13.1+cu117\n",
            "Found existing installation: torchvision 0.14.1+cu117\n",
            "Uninstalling torchvision-0.14.1+cu117:\n",
            "  Successfully uninstalled torchvision-0.14.1+cu117\n",
            "Found existing installation: torchaudio 0.13.1+cu117\n",
            "Uninstalling torchaudio-0.13.1+cu117:\n",
            "  Successfully uninstalled torchaudio-0.13.1+cu117\n",
            "\u001b[33mWARNING: Skipping torchmcubes as it is not installed.\u001b[0m\u001b[33m\n",
            "\u001b[0mLooking in indexes: https://download.pytorch.org/whl/cu117\n",
            "Collecting torch==1.13.1+cu117\n",
            "  Using cached https://download.pytorch.org/whl/cu117/torch-1.13.1%2Bcu117-cp310-cp310-linux_x86_64.whl (1801.8 MB)\n"
          ]
        }
      ],
      "source": [
        "# 重启 Runtime 后，请从这里开始执行\n",
        "\n",
        "# 确保在 /content 目录下\n",
        "%cd /content\n",
        "\n",
        "# 清理可能存在的旧环境\n",
        "!rm -rf /content/TripoSR-hf /content/torchmcubes\n",
        "\n",
        "# 克隆项目代码 (dev 分支)\n",
        "!git clone -b dev https://github.com/camenduru/TripoSR-hf\n",
        "%cd /content/TripoSR-hf\n",
        "\n",
        "# 卸载已安装的 torch、torchvision、torchaudio、torchmcubes（若有）\n",
        "!pip uninstall -y torch torchvision torchaudio torchmcubes\n",
        "\n",
        "# 安装指定版本的 Torch (1.13.1+cu117)\n",
        "!pip install --force-reinstall torch==1.13.1+cu117 torchvision==0.14.1+cu117 torchaudio==0.13.1+cu117 --index-url https://download.pytorch.org/whl/cu117\n",
        "\n",
        "# 安装其他依赖\n",
        "!pip install trimesh omegaconf einops rembg gradio onnxruntime\n",
        "\n",
        "# 克隆 tatsy/torchmcubes 源码并安装\n",
        "%cd /content\n",
        "!git clone https://github.com/tatsy/torchmcubes.git\n",
        "%cd torchmcubes\n",
        "!pip install .\n",
        "\n",
        "# 返回项目目录并运行主脚本\n",
        "%cd /content/TripoSR-hf\n",
        "!python app.py\n",
        "\n"
      ]
    }
  ],
  "metadata": {
    "accelerator": "GPU",
    "colab": {
      "gpuType": "T4",
      "provenance": [],
      "include_colab_link": true
    },
    "kernelspec": {
      "display_name": "Python 3",
      "name": "python3"
    },
    "language_info": {
      "name": "python"
    }
  },
  "nbformat": 4,
  "nbformat_minor": 0
}